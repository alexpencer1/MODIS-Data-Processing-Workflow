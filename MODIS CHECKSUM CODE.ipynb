{
 "cells": [
  {
   "cell_type": "code",
   "execution_count": 1,
   "id": "addf6bdb-0e86-4cee-aa65-2cae67c9bd15",
   "metadata": {},
   "outputs": [
    {
     "name": "stdout",
     "output_type": "stream",
     "text": [
      "Filenames saved to C:\\Users\\Alexander\\Desktop\\check\\fileList.txt\n"
     ]
    }
   ],
   "source": [
    "# THIS CODE IS TO EXTRACT LIST OF MODIS FILE NAME FROM THE \n",
    "# MICROSOFT EDGE HTML DOCUMENT AND SAVE IT AS A TXT FILE\n",
    "# BUT THIS WILL INCLUDE SONE 2-COLUMNS NOT NEEDED\n",
    "\n",
    "from bs4 import BeautifulSoup\n",
    "import re\n",
    "\n",
    "# Define file paths\n",
    "html_file_path = r\"C:\\Users\\Alexander\\Desktop\\check\\checksums_502375815.htm\"\n",
    "output_file_path = r\"C:\\Users\\Alexander\\Desktop\\check\\fileList.txt\"\n",
    "\n",
    "# Read the HTML file\n",
    "with open(html_file_path, \"r\", encoding=\"utf-8\") as file:\n",
    "    content = file.read()\n",
    "\n",
    "# Parse the HTML content\n",
    "soup = BeautifulSoup(content, \"html.parser\")\n",
    "\n",
    "# Extract all text from the HTML\n",
    "all_text = soup.get_text()\n",
    "\n",
    "# Use regular expressions to extract filenames ending with .hdf or .nc\n",
    "pattern = r\"[A-Za-z0-9._-]+\\.hdf|[A-Za-z0-9._-]+\\.nc\"\n",
    "filenames = re.findall(pattern, all_text)\n",
    "\n",
    "# Write the extracted filenames to fileList2.txt\n",
    "with open(output_file_path, \"w\", encoding=\"utf-8\") as fileList2:\n",
    "    for filename in filenames:\n",
    "        fileList2.write(filename + \"\\n\")\n",
    "\n",
    "print(f\"Filenames saved to {output_file_path}\")\n"
   ]
  },
  {
   "cell_type": "code",
   "execution_count": 3,
   "id": "267fc4bd-f688-42fe-bcdb-10f904c7f34b",
   "metadata": {},
   "outputs": [
    {
     "name": "stdout",
     "output_type": "stream",
     "text": [
      "Total expected files: 1524\n",
      "Total downloaded files: 1525\n",
      "Total missing files: 1\n",
      "\n",
      "Missing files:\n",
      "MOD04_L2.A2005144.1030.061.2017291132322.hdf\n"
     ]
    }
   ],
   "source": [
    "# THIS CODE IS TO EXTRACT LIST OF MODIS FILE NAME FROM THE \n",
    "# MICROSOFT EDGE HTML DOCUMENT AND SAVE IT AS A TXT FILE\n",
    "# BUT THIS WILL LOOPS THROUGHT THE FOLDERS AND PRINTS OUT THE MISSING FILES\n",
    "\n",
    "\n",
    "import os\n",
    "\n",
    "# Paths\n",
    "directory = r\"D:\\ARTICLE 1\\NIGERIA MODIS\\2004\"\n",
    "file_list_path = r\"C:\\Users\\Alexander\\Desktop\\check\\fileList.txt\"\n",
    "\n",
    "# Read filenames from fileList2.txt\n",
    "with open(file_list_path, \"r\", encoding=\"utf-8\") as file:\n",
    "    expected_files = [line.strip() for line in file.readlines()]\n",
    "\n",
    "# List files in the directory\n",
    "downloaded_files = os.listdir(directory)\n",
    "\n",
    "# Find missing files\n",
    "missing_files = [file for file in expected_files if file not in downloaded_files]\n",
    "\n",
    "# Output results\n",
    "print(f\"Total expected files: {len(expected_files)}\")\n",
    "print(f\"Total downloaded files: {len(downloaded_files)}\")\n",
    "print(f\"Total missing files: {len(missing_files)}\")\n",
    "\n",
    "if missing_files:\n",
    "    print(\"\\nMissing files:\")\n",
    "    for file in missing_files:\n",
    "        print(file)\n",
    "else:\n",
    "    print(\"\\nAll files are downloaded successfully.\")\n",
    "\n"
   ]
  },
  {
   "cell_type": "code",
   "execution_count": null,
   "id": "5da4882c-106d-4d10-844e-dc129f70b92d",
   "metadata": {},
   "outputs": [],
   "source": []
  },
  {
   "cell_type": "code",
   "execution_count": null,
   "id": "5a74b711-e1c2-452e-a7fa-b02e3f0f591a",
   "metadata": {},
   "outputs": [],
   "source": []
  }
 ],
 "metadata": {
  "kernelspec": {
   "display_name": "Python [conda env:base] *",
   "language": "python",
   "name": "conda-base-py"
  },
  "language_info": {
   "codemirror_mode": {
    "name": "ipython",
    "version": 3
   },
   "file_extension": ".py",
   "mimetype": "text/x-python",
   "name": "python",
   "nbconvert_exporter": "python",
   "pygments_lexer": "ipython3",
   "version": "3.12.3"
  }
 },
 "nbformat": 4,
 "nbformat_minor": 5
}
